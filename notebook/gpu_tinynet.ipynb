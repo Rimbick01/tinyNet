{
 "cells": [
  {
   "cell_type": "code",
   "execution_count": 41,
   "id": "d597ee16",
   "metadata": {},
   "outputs": [],
   "source": [
    "%reload_ext autoreload\n",
    "%autoreload 2\n",
    "%matplotlib inline\n",
    "import os\n",
    "# c=os.getcwd()\n",
    "os.chdir(\"/media/rimbick/project/pytorch/mnist-cuda/fun/tiny_Net\")\n",
    "from tinygrad.tensor import Tensor\n",
    "from tinygrad.utils import layer_init_uniform,fetch_mnist\n",
    "from tqdm import trange\n",
    "import torch\n",
    "import numpy as np"
   ]
  },
  {
   "cell_type": "code",
   "execution_count": 42,
   "id": "9677942e",
   "metadata": {},
   "outputs": [],
   "source": [
    "z = Tensor.zeros(10).cuda()\n",
    "z1 = Tensor.ones(10).cuda()"
   ]
  },
  {
   "cell_type": "code",
   "execution_count": 25,
   "id": "bfb6a876",
   "metadata": {},
   "outputs": [
    {
     "data": {
      "text/plain": [
       "Tensor array([[10., 10., 10., 10.],\n",
       "       [10., 10., 10., 10.],\n",
       "       [10., 10., 10., 10.],\n",
       "       [10., 10., 10., 10.]], dtype=float32) with grad None"
      ]
     },
     "execution_count": 25,
     "metadata": {},
     "output_type": "execute_result"
    }
   ],
   "source": [
    "# %%timeit -n 100\n",
    "z,z1 = Tensor.zeros(4,4).cuda(),Tensor.ones(4,4).cuda()\n",
    "for i in range(10):\n",
    "    z = z.add(z1)\n",
    "z.cpu()"
   ]
  },
  {
   "cell_type": "code",
   "execution_count": 16,
   "id": "95ed077e",
   "metadata": {},
   "outputs": [
    {
     "data": {
      "text/plain": [
       "Tensor array([[10., 10., 10., 10.],\n",
       "       [10., 10., 10., 10.],\n",
       "       [10., 10., 10., 10.],\n",
       "       [10., 10., 10., 10.]], dtype=float32) with grad None"
      ]
     },
     "execution_count": 16,
     "metadata": {},
     "output_type": "execute_result"
    }
   ],
   "source": [
    "z,z1 = Tensor.zeros(4,4),Tensor.ones(4,4)\n",
    "for i in range(10):\n",
    "    z = z.add(z1)\n",
    "z.cpu()"
   ]
  },
  {
   "cell_type": "code",
   "execution_count": 26,
   "id": "88c35db5",
   "metadata": {},
   "outputs": [],
   "source": [
    "z = z.add(z1)\n",
    "# z3"
   ]
  },
  {
   "cell_type": "code",
   "execution_count": 27,
   "id": "5fbb2477",
   "metadata": {},
   "outputs": [
    {
     "data": {
      "text/plain": [
       "Tensor array([[11., 11., 11., 11.],\n",
       "       [11., 11., 11., 11.],\n",
       "       [11., 11., 11., 11.],\n",
       "       [11., 11., 11., 11.]], dtype=float32) with grad None"
      ]
     },
     "execution_count": 27,
     "metadata": {},
     "output_type": "execute_result"
    }
   ],
   "source": [
    "z.cpu()"
   ]
  },
  {
   "cell_type": "code",
   "execution_count": 29,
   "id": "2b633342",
   "metadata": {},
   "outputs": [
    {
     "data": {
      "text/plain": [
       "Tensor array([[11., 11., 11., 11.],\n",
       "       [11., 11., 11., 11.],\n",
       "       [11., 11., 11., 11.],\n",
       "       [11., 11., 11., 11.]], dtype=float32) with grad None"
      ]
     },
     "execution_count": 29,
     "metadata": {},
     "output_type": "execute_result"
    }
   ],
   "source": [
    "z.cuda().cpu()"
   ]
  },
  {
   "cell_type": "code",
   "execution_count": 30,
   "id": "5f3ceb56",
   "metadata": {},
   "outputs": [
    {
     "data": {
      "text/plain": [
       "Tensor <pyopencl._cl.Buffer object at 0x834ffaa5210> with grad None"
      ]
     },
     "execution_count": 30,
     "metadata": {},
     "output_type": "execute_result"
    }
   ],
   "source": [
    "z"
   ]
  },
  {
   "cell_type": "code",
   "execution_count": 9,
   "id": "e008b3dc",
   "metadata": {},
   "outputs": [
    {
     "data": {
      "text/plain": [
       "16"
      ]
     },
     "execution_count": 9,
     "metadata": {},
     "output_type": "execute_result"
    }
   ],
   "source": [
    "z.data.size"
   ]
  },
  {
   "cell_type": "code",
   "execution_count": 43,
   "id": "567cc126",
   "metadata": {},
   "outputs": [],
   "source": [
    "t1=Tensor(np.arange(0,16).reshape(4,4).astype(np.float32)).cuda()"
   ]
  },
  {
   "cell_type": "code",
   "execution_count": 44,
   "id": "f2e2c3c9",
   "metadata": {},
   "outputs": [
    {
     "name": "stdout",
     "output_type": "stream",
     "text": [
      "64 (4, 4)\n"
     ]
    },
    {
     "data": {
      "text/plain": [
       "Tensor array([[ 0.,  2.,  4.,  6.],\n",
       "       [ 8., 10., 12., 14.],\n",
       "       [16., 18., 20., 22.],\n",
       "       [24., 26., 28., 30.]], dtype=float32) with grad None"
      ]
     },
     "execution_count": 44,
     "metadata": {},
     "output_type": "execute_result"
    }
   ],
   "source": [
    "t1.add(t1).cpu()"
   ]
  },
  {
   "cell_type": "code",
   "execution_count": 45,
   "id": "0c4ccbc8",
   "metadata": {},
   "outputs": [
    {
     "data": {
      "text/plain": [
       "'/media/rimbick/project/pytorch/mnist-cuda/.venv/lib/python3.11/site-packages/IPython/core/ultratb.py'"
      ]
     },
     "execution_count": 45,
     "metadata": {},
     "output_type": "execute_result"
    }
   ],
   "source": [
    "import IPython, os\n",
    "os.path.join(os.path.dirname(IPython.__file__), 'core/ultratb.py')\n"
   ]
  },
  {
   "cell_type": "code",
   "execution_count": null,
   "id": "904e84f4",
   "metadata": {},
   "outputs": [],
   "source": []
  }
 ],
 "metadata": {
  "kernelspec": {
   "display_name": "Python 3 (ipykernel)",
   "language": "python",
   "name": "python3"
  },
  "language_info": {
   "codemirror_mode": {
    "name": "ipython",
    "version": 3
   },
   "file_extension": ".py",
   "mimetype": "text/x-python",
   "name": "python",
   "nbconvert_exporter": "python",
   "pygments_lexer": "ipython3",
   "version": "3.11.12"
  }
 },
 "nbformat": 4,
 "nbformat_minor": 5
}
